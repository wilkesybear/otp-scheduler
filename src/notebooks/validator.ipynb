{
 "cells": [
  {
   "cell_type": "code",
   "execution_count": 168,
   "metadata": {},
   "outputs": [
    {
     "name": "stdout",
     "output_type": "stream",
     "text": [
      "/Users/andrew/src/otp-scheduler\n"
     ]
    }
   ],
   "source": [
    "import os\n",
    "import sys\n",
    "module_path = os.path.abspath(os.path.join('../..'))\n",
    "print(module_path)\n",
    "if module_path not in sys.path:\n",
    "    sys.path.append(module_path)"
   ]
  },
  {
   "cell_type": "code",
   "execution_count": 169,
   "metadata": {
    "scrolled": true
   },
   "outputs": [],
   "source": [
    "import pandas as pd\n",
    "from src import parse"
   ]
  },
  {
   "cell_type": "code",
   "execution_count": 170,
   "metadata": {},
   "outputs": [],
   "source": [
    "def sort_schedule(df):\n",
    "    return df.sort_values(by=['zone', 'priority_rank', 'code']).reset_index(drop=True)"
   ]
  },
  {
   "cell_type": "code",
   "execution_count": 171,
   "metadata": {},
   "outputs": [],
   "source": [
    "# ASSUMPTIONS\n",
    "MEAL_CAPACITY = 10000\n",
    "MAX_DROPOFFS_PER_RUN = 4\n",
    "MIN_MEALS_PER_RUN = 50"
   ]
  },
  {
   "cell_type": "code",
   "execution_count": 172,
   "metadata": {},
   "outputs": [],
   "source": [
    "restaurants = parse.parse_from_restaurants_csv('../../examples/boston/20200405/restaurants.csv').set_index('code')"
   ]
  },
  {
   "cell_type": "code",
   "execution_count": 173,
   "metadata": {},
   "outputs": [
    {
     "data": {
      "text/plain": [
       "(8, 23)"
      ]
     },
     "execution_count": 173,
     "metadata": {},
     "output_type": "execute_result"
    }
   ],
   "source": [
    "restaurants.shape"
   ]
  },
  {
   "cell_type": "code",
   "execution_count": 174,
   "metadata": {},
   "outputs": [],
   "source": [
    "hospitals = sort_schedule(parse.parse_from_hospital_requests_csv('../../examples/boston/20200405/hospitals.csv'))\n",
    "schedule = hospitals.iloc[:, 5:]"
   ]
  },
  {
   "cell_type": "code",
   "execution_count": 175,
   "metadata": {
    "scrolled": true
   },
   "outputs": [
    {
     "data": {
      "text/plain": [
       "(30, 21)"
      ]
     },
     "execution_count": 175,
     "metadata": {},
     "output_type": "execute_result"
    }
   ],
   "source": [
    "vip_hospitals = sort_schedule(parse.parse_from_hospital_requests_csv('../../examples/boston/20200405/vips.csv'))\n",
    "vip_schedule = vip_hospitals.iloc[:, 5:]\n",
    "vip_schedule.shape"
   ]
  },
  {
   "cell_type": "code",
   "execution_count": 176,
   "metadata": {
    "scrolled": true
   },
   "outputs": [
    {
     "data": {
      "text/plain": [
       "(30, 26)"
      ]
     },
     "execution_count": 176,
     "metadata": {},
     "output_type": "execute_result"
    }
   ],
   "source": [
    "# results = sort_schedule(parse.parse_from_results_csv('../../examples/boston/20200405/results.csv'))\n",
    "results = sort_schedule(parse.parse_from_results_csv('../../output.csv'))\n",
    "results.shape"
   ]
  },
  {
   "cell_type": "code",
   "execution_count": 177,
   "metadata": {},
   "outputs": [],
   "source": [
    "results_schedule = results.iloc[:, 5:]\n",
    "results_schedule_columns = results_schedule.columns"
   ]
  },
  {
   "cell_type": "code",
   "execution_count": 178,
   "metadata": {},
   "outputs": [],
   "source": [
    "log = []\n",
    "for i, row in results_schedule.iterrows():\n",
    "    for j, val in enumerate(row):\n",
    "        if not pd.isnull(val):\n",
    "            quantity = schedule.iloc[i, j]\n",
    "            vip = False\n",
    "            if pd.isnull(quantity) and not pd.isnull(vip_schedule.iloc[i, j]):\n",
    "                quantity = vip_schedule.iloc[i, j]\n",
    "                vip = True\n",
    "            log.append([\n",
    "                hospitals.iloc[i, 1], \n",
    "                hospitals.iloc[i, 4],\n",
    "                results_schedule_columns[j], \n",
    "                val, \n",
    "                quantity, \n",
    "                restaurants[results_schedule_columns[j]][val],\n",
    "                vip,\n",
    "            ])"
   ]
  },
  {
   "cell_type": "code",
   "execution_count": 179,
   "metadata": {},
   "outputs": [
    {
     "data": {
      "text/html": [
       "<div>\n",
       "<style scoped>\n",
       "    .dataframe tbody tr th:only-of-type {\n",
       "        vertical-align: middle;\n",
       "    }\n",
       "\n",
       "    .dataframe tbody tr th {\n",
       "        vertical-align: top;\n",
       "    }\n",
       "\n",
       "    .dataframe thead th {\n",
       "        text-align: right;\n",
       "    }\n",
       "</style>\n",
       "<table border=\"1\" class=\"dataframe\">\n",
       "  <thead>\n",
       "    <tr style=\"text-align: right;\">\n",
       "      <th></th>\n",
       "      <th>hospital</th>\n",
       "      <th>zone</th>\n",
       "      <th>meal</th>\n",
       "      <th>restaurant</th>\n",
       "      <th>quantity</th>\n",
       "      <th>restaurant_capacity</th>\n",
       "      <th>vip</th>\n",
       "    </tr>\n",
       "  </thead>\n",
       "  <tbody>\n",
       "    <tr>\n",
       "      <th>0</th>\n",
       "      <td>BIDMC - West Campus</td>\n",
       "      <td>1</td>\n",
       "      <td>lunch_mon</td>\n",
       "      <td>LD</td>\n",
       "      <td>60.0</td>\n",
       "      <td>700.0</td>\n",
       "      <td>False</td>\n",
       "    </tr>\n",
       "    <tr>\n",
       "      <th>1</th>\n",
       "      <td>BIDMC - West Campus</td>\n",
       "      <td>1</td>\n",
       "      <td>lunch_tues</td>\n",
       "      <td>PG</td>\n",
       "      <td>60.0</td>\n",
       "      <td>600.0</td>\n",
       "      <td>False</td>\n",
       "    </tr>\n",
       "    <tr>\n",
       "      <th>2</th>\n",
       "      <td>BIDMC - West Campus</td>\n",
       "      <td>1</td>\n",
       "      <td>lunch_wed</td>\n",
       "      <td>SU</td>\n",
       "      <td>60.0</td>\n",
       "      <td>1000.0</td>\n",
       "      <td>False</td>\n",
       "    </tr>\n",
       "    <tr>\n",
       "      <th>3</th>\n",
       "      <td>BIDMC - West Campus</td>\n",
       "      <td>1</td>\n",
       "      <td>lunch_thurs</td>\n",
       "      <td>PG</td>\n",
       "      <td>60.0</td>\n",
       "      <td>600.0</td>\n",
       "      <td>False</td>\n",
       "    </tr>\n",
       "    <tr>\n",
       "      <th>4</th>\n",
       "      <td>BIDMC - East Campus</td>\n",
       "      <td>1</td>\n",
       "      <td>lunch_mon</td>\n",
       "      <td>LD</td>\n",
       "      <td>30.0</td>\n",
       "      <td>700.0</td>\n",
       "      <td>False</td>\n",
       "    </tr>\n",
       "    <tr>\n",
       "      <th>...</th>\n",
       "      <td>...</td>\n",
       "      <td>...</td>\n",
       "      <td>...</td>\n",
       "      <td>...</td>\n",
       "      <td>...</td>\n",
       "      <td>...</td>\n",
       "      <td>...</td>\n",
       "    </tr>\n",
       "    <tr>\n",
       "      <th>123</th>\n",
       "      <td>BIDMC - Chelsea</td>\n",
       "      <td>3</td>\n",
       "      <td>lunch_wed</td>\n",
       "      <td>PO</td>\n",
       "      <td>20.0</td>\n",
       "      <td>200.0</td>\n",
       "      <td>False</td>\n",
       "    </tr>\n",
       "    <tr>\n",
       "      <th>124</th>\n",
       "      <td>BIDMC - Chelsea</td>\n",
       "      <td>3</td>\n",
       "      <td>lunch_thurs</td>\n",
       "      <td>FC</td>\n",
       "      <td>20.0</td>\n",
       "      <td>300.0</td>\n",
       "      <td>False</td>\n",
       "    </tr>\n",
       "    <tr>\n",
       "      <th>125</th>\n",
       "      <td>Charles River Community Health</td>\n",
       "      <td>3</td>\n",
       "      <td>lunch_mon</td>\n",
       "      <td>FC</td>\n",
       "      <td>24.0</td>\n",
       "      <td>300.0</td>\n",
       "      <td>False</td>\n",
       "    </tr>\n",
       "    <tr>\n",
       "      <th>126</th>\n",
       "      <td>Charles River Community Health</td>\n",
       "      <td>3</td>\n",
       "      <td>lunch_tues</td>\n",
       "      <td>FC</td>\n",
       "      <td>24.0</td>\n",
       "      <td>300.0</td>\n",
       "      <td>False</td>\n",
       "    </tr>\n",
       "    <tr>\n",
       "      <th>127</th>\n",
       "      <td>Charles River Community Health</td>\n",
       "      <td>3</td>\n",
       "      <td>lunch_wed</td>\n",
       "      <td>PO</td>\n",
       "      <td>24.0</td>\n",
       "      <td>200.0</td>\n",
       "      <td>False</td>\n",
       "    </tr>\n",
       "  </tbody>\n",
       "</table>\n",
       "<p>128 rows × 7 columns</p>\n",
       "</div>"
      ],
      "text/plain": [
       "                           hospital  zone         meal restaurant  quantity  \\\n",
       "0               BIDMC - West Campus     1    lunch_mon         LD      60.0   \n",
       "1               BIDMC - West Campus     1   lunch_tues         PG      60.0   \n",
       "2               BIDMC - West Campus     1    lunch_wed         SU      60.0   \n",
       "3               BIDMC - West Campus     1  lunch_thurs         PG      60.0   \n",
       "4               BIDMC - East Campus     1    lunch_mon         LD      30.0   \n",
       "..                              ...   ...          ...        ...       ...   \n",
       "123                 BIDMC - Chelsea     3    lunch_wed         PO      20.0   \n",
       "124                 BIDMC - Chelsea     3  lunch_thurs         FC      20.0   \n",
       "125  Charles River Community Health     3    lunch_mon         FC      24.0   \n",
       "126  Charles River Community Health     3   lunch_tues         FC      24.0   \n",
       "127  Charles River Community Health     3    lunch_wed         PO      24.0   \n",
       "\n",
       "     restaurant_capacity    vip  \n",
       "0                  700.0  False  \n",
       "1                  600.0  False  \n",
       "2                 1000.0  False  \n",
       "3                  600.0  False  \n",
       "4                  700.0  False  \n",
       "..                   ...    ...  \n",
       "123                200.0  False  \n",
       "124                300.0  False  \n",
       "125                300.0  False  \n",
       "126                300.0  False  \n",
       "127                200.0  False  \n",
       "\n",
       "[128 rows x 7 columns]"
      ]
     },
     "execution_count": 179,
     "metadata": {},
     "output_type": "execute_result"
    }
   ],
   "source": [
    "meal_log = pd.DataFrame(log, columns=['hospital', 'zone', 'meal', 'restaurant', 'quantity', 'restaurant_capacity', 'vip'])\n",
    "meal_log"
   ]
  },
  {
   "cell_type": "code",
   "execution_count": 180,
   "metadata": {},
   "outputs": [],
   "source": [
    "# Ensure all VIP orders are fulfilled\n",
    "vip_schedule_dense = vip_schedule.dropna(how='all', axis=0).dropna(how='all', axis=1)\n",
    "vip_schedule_dense\n",
    "vip_orders = []\n",
    "missing_meals = []\n",
    "for i, row in vip_schedule_dense.iterrows():\n",
    "    for j, val in enumerate(row):\n",
    "        if not pd.isnull(val):\n",
    "            order = meal_log[(meal_log['hospital'] == hospitals.iloc[i, 1]) & (meal_log['meal'] == vip_schedule_dense.columns[j])]\n",
    "            vip_orders.append(order)\n",
    "            if order.empty:\n",
    "                missing_meals.append((hospitals.iloc[i, 1], vip_schedule_dense.columns[j]))\n",
    "                \n",
    "test(len(missing_meals) == 0, 'Some VIP meal orders have not been fulfilled', missing_meals)"
   ]
  },
  {
   "cell_type": "code",
   "execution_count": 181,
   "metadata": {},
   "outputs": [],
   "source": [
    "vip_orders_df = pd.concat(vip_orders).reset_index()"
   ]
  },
  {
   "cell_type": "markdown",
   "metadata": {},
   "source": [
    "## Rules / Validation Checks:\n",
    "High-level\n",
    "- [x] Within budget (# meals < capacity)\n",
    "\n",
    "Restaurants\n",
    "- [x] Restaurant has capacity for that order\n",
    "- [x] Restaurant is delivering to one cluster per meal time\n",
    "- [x] Restaurant is delivering at least 50 meals for a meal time they are assigned\n",
    "- [x] Restaurant is not delivering to more than 4 dropoffs per meal time\n",
    "- [x] Restaurant is within their max days per week\n",
    "\n",
    "Allocation\n",
    "- [x] VIP Orders are all fulfilled\n",
    "- [x] All orders are fully-served (this is pretty much intrinsically assumed, given the format of our data)\n",
    "- [x] Every HP has > 0 orders"
   ]
  },
  {
   "cell_type": "code",
   "execution_count": 182,
   "metadata": {},
   "outputs": [],
   "source": [
    "def test(condition, *print_args):\n",
    "    if not condition:\n",
    "        print('TEST FAILURE:', print_args[0])\n",
    "        for arg in print_args[1:]:\n",
    "            print(arg)"
   ]
  },
  {
   "cell_type": "code",
   "execution_count": 183,
   "metadata": {},
   "outputs": [],
   "source": [
    "# NOTHING in here should be null! This means something isn't matching up with our priors in our spreadsheets!\n",
    "test(meal_log.isnull().sum().sum() == 0, 'we have nulls in our dense meal log set!', meal_log.isnull().sum().sum())"
   ]
  },
  {
   "cell_type": "code",
   "execution_count": 184,
   "metadata": {},
   "outputs": [],
   "source": [
    "# Within budget\n",
    "test(meal_log['quantity'].sum() < MEAL_CAPACITY, 'we are above meal capacity', meal_log['quantity'].sum(), MEAL_CAPACITY)"
   ]
  },
  {
   "cell_type": "code",
   "execution_count": 185,
   "metadata": {},
   "outputs": [],
   "source": [
    "# Restauarant assertions\n",
    "under_capacity = meal_log[meal_log['restaurant_capacity'] < meal_log['quantity']]\n",
    "test(under_capacity.empty, 'Some restaurants are assinged a meal that is over their capacity')"
   ]
  },
  {
   "cell_type": "code",
   "execution_count": 186,
   "metadata": {},
   "outputs": [],
   "source": [
    "# Restaurant is delivering one cluster per meal time\n",
    "restaurant_delivery_zones = meal_log.groupby(['meal', 'restaurant'])[['zone']].nunique()\n",
    "multiple_zones = restaurant_delivery_zones[restaurant_delivery_zones['zone'] > 1]\n",
    "test(multiple_zones.empty, 'Some restaurants are delivering to more than one zone for a meal!', multiple_zones)"
   ]
  },
  {
   "cell_type": "code",
   "execution_count": 187,
   "metadata": {
    "scrolled": true
   },
   "outputs": [
    {
     "name": "stdout",
     "output_type": "stream",
     "text": [
      "TEST FAILURE: Some restaurants are delivering a low quantity of meals for an order!\n",
      "                            quantity\n",
      "meal            restaurant          \n",
      "breakfast_mon   LD              12.0\n",
      "breakfast_sun   LD              12.0\n",
      "breakfast_thurs LD              12.0\n",
      "breakfast_tues  LD              12.0\n",
      "breakfast_wed   LD              12.0\n",
      "dinner_fri      SU              12.0\n",
      "lunch_mon       FC              24.0\n",
      "lunch_sat       PG               6.0\n",
      "lunch_thurs     FC              20.0\n",
      "lunch_tues      FC              44.0\n",
      "lunch_wed       PO              44.0\n"
     ]
    }
   ],
   "source": [
    "# Restaurant is delivering at least `MIN_MEALS_PER_RUN` per run\n",
    "restaurant_quantity_per_meal = meal_log.groupby(['meal', 'restaurant'])[['quantity']].sum()\n",
    "small_orders_per_meal = restaurant_quantity_per_meal[restaurant_quantity_per_meal['quantity'] < MIN_MEALS_PER_RUN]\n",
    "test(small_orders_per_meal.empty, 'Some restaurants are delivering a low quantity of meals for an order!', small_orders_per_meal)"
   ]
  },
  {
   "cell_type": "code",
   "execution_count": 188,
   "metadata": {},
   "outputs": [],
   "source": [
    "# Restaurant is delivering no more than `MAX_DROPOFFS_PER_RUN` dropoffs per run\n",
    "dropoffs_per_run = meal_log.groupby(['meal', 'zone', 'restaurant'])[['hospital']].count()\n",
    "too_many_dropoffs = dropoffs_per_run[dropoffs_per_run['hospital'] > MAX_DROPOFFS_PER_RUN]\n",
    "test(too_many_dropoffs.empty, 'Some restaurants are delivering to too many dropoff points per run!', too_many_dropoffs)"
   ]
  },
  {
   "cell_type": "code",
   "execution_count": 189,
   "metadata": {},
   "outputs": [],
   "source": [
    "# Restaurant is within their max days per week\n",
    "\n",
    "# Roll up all the meals into days\n",
    "def column_to_day(series):\n",
    "    days = set(series.map(lambda m: m.replace('lunch', '').replace('breakfast', '').replace('dinner', '').replace('_', '')))\n",
    "    return len(days)\n",
    "    \n",
    "\n",
    "days_worked = meal_log.groupby(['restaurant']).agg({'meal': [('Days Worked', column_to_day)]}).reset_index()\n",
    "days_worked.columns = ['restaurant', 'Days Worked']\n",
    "days_with_capacity = days_worked.merge(restaurants[['max_days_per_week']], left_on='restaurant', right_on='code')\n",
    "days_over_capacity = days_with_capacity[days_with_capacity['Days Worked'] > days_with_capacity['max_days_per_week']]\n",
    "test(too_many_dropoffs.empty, 'Some restaurants are working more days than requested this week', days_over_capacity)"
   ]
  },
  {
   "cell_type": "code",
   "execution_count": 190,
   "metadata": {},
   "outputs": [],
   "source": [
    "hospital_meals_rollup = meal_log[['hospital', 'quantity']].groupby('hospital').agg({\n",
    "    'quantity': [('total_meals_received', 'sum'), ('total_orders_fulfilled', 'count')]\n",
    "}).sort_values([('quantity', 'total_meals_received')], ascending=False).reset_index()\n",
    "hospital_meals_rollup.columns = ['hospital', 'total_meals_received', 'total_orders_fulfilled']"
   ]
  },
  {
   "cell_type": "code",
   "execution_count": 191,
   "metadata": {},
   "outputs": [
    {
     "data": {
      "text/html": [
       "<div>\n",
       "<style scoped>\n",
       "    .dataframe tbody tr th:only-of-type {\n",
       "        vertical-align: middle;\n",
       "    }\n",
       "\n",
       "    .dataframe tbody tr th {\n",
       "        vertical-align: top;\n",
       "    }\n",
       "\n",
       "    .dataframe thead th {\n",
       "        text-align: right;\n",
       "    }\n",
       "</style>\n",
       "<table border=\"1\" class=\"dataframe\">\n",
       "  <thead>\n",
       "    <tr style=\"text-align: right;\">\n",
       "      <th></th>\n",
       "      <th>hospital</th>\n",
       "      <th>vip_meals_count</th>\n",
       "    </tr>\n",
       "  </thead>\n",
       "  <tbody>\n",
       "    <tr>\n",
       "      <th>0</th>\n",
       "      <td>Boston Healthcare for the Homeless</td>\n",
       "      <td>21</td>\n",
       "    </tr>\n",
       "    <tr>\n",
       "      <th>1</th>\n",
       "      <td>Boston Medical Center</td>\n",
       "      <td>7</td>\n",
       "    </tr>\n",
       "    <tr>\n",
       "      <th>2</th>\n",
       "      <td>Brigham and Women's - Faulkner ED</td>\n",
       "      <td>4</td>\n",
       "    </tr>\n",
       "    <tr>\n",
       "      <th>3</th>\n",
       "      <td>Brigham and Women's Hospital - ED</td>\n",
       "      <td>4</td>\n",
       "    </tr>\n",
       "  </tbody>\n",
       "</table>\n",
       "</div>"
      ],
      "text/plain": [
       "                             hospital  vip_meals_count\n",
       "0  Boston Healthcare for the Homeless               21\n",
       "1               Boston Medical Center                7\n",
       "2   Brigham and Women's - Faulkner ED                4\n",
       "3   Brigham and Women's Hospital - ED                4"
      ]
     },
     "execution_count": 191,
     "metadata": {},
     "output_type": "execute_result"
    }
   ],
   "source": [
    "vip_orders_rollup = vip_orders_df.groupby('hospital')[['index']].count().reset_index()\n",
    "vip_orders_rollup.columns = ['hospital', 'vip_meals_count']\n",
    "vip_orders_rollup"
   ]
  },
  {
   "cell_type": "code",
   "execution_count": 192,
   "metadata": {},
   "outputs": [],
   "source": [
    "hospital_meals_rollup = meal_log[['hospital', 'quantity']].groupby('hospital').agg({\n",
    "    'quantity': [('total_meals_received', 'sum'), ('total_orders_fulfilled', 'count')],\n",
    "}).sort_values([('quantity', 'total_meals_received')], ascending=False).reset_index()\n",
    "hospital_meals_rollup.columns = ['hospital', 'total_meals_received', 'total_orders_fulfilled']\n",
    "\n",
    "hospital_meals_rollup = hospital_meals_rollup.merge(vip_orders_rollup, on='hospital', how='left').fillna(0)"
   ]
  },
  {
   "cell_type": "code",
   "execution_count": 193,
   "metadata": {},
   "outputs": [],
   "source": [
    "# Every HP has > 0 orders\n",
    "hospitals_no_orders = hospital_meals_rollup[hospital_meals_rollup['total_orders_fulfilled'] == 0]\n",
    "test(hospitals_no_orders.empty, 'Some Hospitals received no orders!', hospitals_no_orders)"
   ]
  },
  {
   "cell_type": "markdown",
   "metadata": {},
   "source": [
    "## KPIs:\n",
    "- [X] Meals scheduled for delivery\n",
    "- [x] Utilization % (number of meals delivered / capacity)\n",
    "- [x] Meals per Delivery Run\n",
    "- [x] Total meals and number of orders for each HP\n",
    "- [x] Total meals and number of orders for each Restaurant\n",
    "- [x] Equitable meals served: all HPs are within 1 order of each other, excluding VIP orders"
   ]
  },
  {
   "cell_type": "code",
   "execution_count": 194,
   "metadata": {},
   "outputs": [
    {
     "data": {
      "text/plain": [
       "9996.0"
      ]
     },
     "execution_count": 194,
     "metadata": {},
     "output_type": "execute_result"
    }
   ],
   "source": [
    "# Number of meals delivered\n",
    "meals_scheduled = meal_log['quantity'].sum()\n",
    "meals_scheduled"
   ]
  },
  {
   "cell_type": "code",
   "execution_count": 195,
   "metadata": {},
   "outputs": [
    {
     "name": "stdout",
     "output_type": "stream",
     "text": [
      "99.96000000000001%\n"
     ]
    }
   ],
   "source": [
    "# Meal Utilization %\n",
    "utilization = meals_scheduled / MEAL_CAPACITY\n",
    "print(str(utilization * 100) + '%')"
   ]
  },
  {
   "cell_type": "code",
   "execution_count": 196,
   "metadata": {},
   "outputs": [],
   "source": [
    "grouped_by_meal_restaurant = meal_log.groupby(['meal', 'restaurant']).agg({\n",
    "    'quantity': ['sum', 'count']\n",
    "}).sort_values(by='meal', ascending=False)\n",
    "# grouped_by_meal_restaurant.head(10)"
   ]
  },
  {
   "cell_type": "code",
   "execution_count": 197,
   "metadata": {},
   "outputs": [
    {
     "data": {
      "text/html": [
       "<div>\n",
       "<style scoped>\n",
       "    .dataframe tbody tr th:only-of-type {\n",
       "        vertical-align: middle;\n",
       "    }\n",
       "\n",
       "    .dataframe tbody tr th {\n",
       "        vertical-align: top;\n",
       "    }\n",
       "\n",
       "    .dataframe thead th {\n",
       "        text-align: right;\n",
       "    }\n",
       "</style>\n",
       "<table border=\"1\" class=\"dataframe\">\n",
       "  <thead>\n",
       "    <tr style=\"text-align: right;\">\n",
       "      <th></th>\n",
       "      <th>Meals per Meal Time</th>\n",
       "      <th>Dropoff Points</th>\n",
       "    </tr>\n",
       "  </thead>\n",
       "  <tbody>\n",
       "    <tr>\n",
       "      <th>median</th>\n",
       "      <td>135.000000</td>\n",
       "      <td>2.000000</td>\n",
       "    </tr>\n",
       "    <tr>\n",
       "      <th>mean</th>\n",
       "      <td>188.603774</td>\n",
       "      <td>2.415094</td>\n",
       "    </tr>\n",
       "    <tr>\n",
       "      <th>min</th>\n",
       "      <td>6.000000</td>\n",
       "      <td>1.000000</td>\n",
       "    </tr>\n",
       "    <tr>\n",
       "      <th>max</th>\n",
       "      <td>692.000000</td>\n",
       "      <td>4.000000</td>\n",
       "    </tr>\n",
       "  </tbody>\n",
       "</table>\n",
       "</div>"
      ],
      "text/plain": [
       "        Meals per Meal Time  Dropoff Points\n",
       "median           135.000000        2.000000\n",
       "mean             188.603774        2.415094\n",
       "min                6.000000        1.000000\n",
       "max              692.000000        4.000000"
      ]
     },
     "execution_count": 197,
     "metadata": {},
     "output_type": "execute_result"
    }
   ],
   "source": [
    "# Meals delivered by Run, and Number of Dropoff Points\n",
    "# CAVEAT: this ASSUMES that a restaurant is delivering to a single cluster for one meal time. Careful!\n",
    "meals_per_run_agg = grouped_by_meal_restaurant.agg(['median', 'mean', 'min', 'max'])\n",
    "meals_per_run_agg.columns = ['Meals per Meal Time', 'Dropoff Points']\n",
    "meals_per_run_agg"
   ]
  },
  {
   "cell_type": "code",
   "execution_count": 198,
   "metadata": {},
   "outputs": [
    {
     "data": {
      "text/html": [
       "<div>\n",
       "<style scoped>\n",
       "    .dataframe tbody tr th:only-of-type {\n",
       "        vertical-align: middle;\n",
       "    }\n",
       "\n",
       "    .dataframe tbody tr th {\n",
       "        vertical-align: top;\n",
       "    }\n",
       "\n",
       "    .dataframe thead th {\n",
       "        text-align: right;\n",
       "    }\n",
       "</style>\n",
       "<table border=\"1\" class=\"dataframe\">\n",
       "  <thead>\n",
       "    <tr style=\"text-align: right;\">\n",
       "      <th></th>\n",
       "      <th>quantity</th>\n",
       "    </tr>\n",
       "    <tr>\n",
       "      <th>restaurant</th>\n",
       "      <th></th>\n",
       "    </tr>\n",
       "  </thead>\n",
       "  <tbody>\n",
       "    <tr>\n",
       "      <th>SU</th>\n",
       "      <td>4224.0</td>\n",
       "    </tr>\n",
       "    <tr>\n",
       "      <th>LD</th>\n",
       "      <td>2719.0</td>\n",
       "    </tr>\n",
       "    <tr>\n",
       "      <th>PG</th>\n",
       "      <td>2011.0</td>\n",
       "    </tr>\n",
       "    <tr>\n",
       "      <th>FC</th>\n",
       "      <td>383.0</td>\n",
       "    </tr>\n",
       "    <tr>\n",
       "      <th>PO</th>\n",
       "      <td>349.0</td>\n",
       "    </tr>\n",
       "    <tr>\n",
       "      <th>IG</th>\n",
       "      <td>310.0</td>\n",
       "    </tr>\n",
       "  </tbody>\n",
       "</table>\n",
       "</div>"
      ],
      "text/plain": [
       "            quantity\n",
       "restaurant          \n",
       "SU            4224.0\n",
       "LD            2719.0\n",
       "PG            2011.0\n",
       "FC             383.0\n",
       "PO             349.0\n",
       "IG             310.0"
      ]
     },
     "execution_count": 198,
     "metadata": {},
     "output_type": "execute_result"
    }
   ],
   "source": [
    "# Total number of meals delivered by restaurant\n",
    "meal_log.groupby('restaurant')[['quantity']].sum().sort_values(by='quantity', ascending=False)"
   ]
  },
  {
   "cell_type": "code",
   "execution_count": 199,
   "metadata": {
    "scrolled": false
   },
   "outputs": [
    {
     "data": {
      "text/html": [
       "<div>\n",
       "<style scoped>\n",
       "    .dataframe tbody tr th:only-of-type {\n",
       "        vertical-align: middle;\n",
       "    }\n",
       "\n",
       "    .dataframe tbody tr th {\n",
       "        vertical-align: top;\n",
       "    }\n",
       "\n",
       "    .dataframe thead tr th {\n",
       "        text-align: left;\n",
       "    }\n",
       "\n",
       "    .dataframe thead tr:last-of-type th {\n",
       "        text-align: right;\n",
       "    }\n",
       "</style>\n",
       "<table border=\"1\" class=\"dataframe\">\n",
       "  <thead>\n",
       "    <tr>\n",
       "      <th></th>\n",
       "      <th colspan=\"2\" halign=\"left\">quantity</th>\n",
       "    </tr>\n",
       "    <tr>\n",
       "      <th></th>\n",
       "      <th>meal_sum</th>\n",
       "      <th>orders_fulfilled</th>\n",
       "    </tr>\n",
       "    <tr>\n",
       "      <th>restaurant</th>\n",
       "      <th></th>\n",
       "      <th></th>\n",
       "    </tr>\n",
       "  </thead>\n",
       "  <tbody>\n",
       "    <tr>\n",
       "      <th>SU</th>\n",
       "      <td>4224.0</td>\n",
       "      <td>40</td>\n",
       "    </tr>\n",
       "    <tr>\n",
       "      <th>LD</th>\n",
       "      <td>2719.0</td>\n",
       "      <td>38</td>\n",
       "    </tr>\n",
       "    <tr>\n",
       "      <th>PG</th>\n",
       "      <td>2011.0</td>\n",
       "      <td>32</td>\n",
       "    </tr>\n",
       "    <tr>\n",
       "      <th>FC</th>\n",
       "      <td>383.0</td>\n",
       "      <td>7</td>\n",
       "    </tr>\n",
       "    <tr>\n",
       "      <th>PO</th>\n",
       "      <td>349.0</td>\n",
       "      <td>7</td>\n",
       "    </tr>\n",
       "    <tr>\n",
       "      <th>IG</th>\n",
       "      <td>310.0</td>\n",
       "      <td>4</td>\n",
       "    </tr>\n",
       "  </tbody>\n",
       "</table>\n",
       "</div>"
      ],
      "text/plain": [
       "           quantity                 \n",
       "           meal_sum orders_fulfilled\n",
       "restaurant                          \n",
       "SU           4224.0               40\n",
       "LD           2719.0               38\n",
       "PG           2011.0               32\n",
       "FC            383.0                7\n",
       "PO            349.0                7\n",
       "IG            310.0                4"
      ]
     },
     "execution_count": 199,
     "metadata": {},
     "output_type": "execute_result"
    }
   ],
   "source": [
    "# Total meals and orders for each Restaurant\n",
    "meal_log.groupby('restaurant').agg({\n",
    "    'quantity': [('meal_sum', 'sum'), ('orders_fulfilled', 'count')]\n",
    "}).sort_values([('quantity', 'meal_sum')], ascending=False)"
   ]
  },
  {
   "cell_type": "code",
   "execution_count": 200,
   "metadata": {
    "scrolled": true
   },
   "outputs": [
    {
     "data": {
      "text/html": [
       "<div>\n",
       "<style scoped>\n",
       "    .dataframe tbody tr th:only-of-type {\n",
       "        vertical-align: middle;\n",
       "    }\n",
       "\n",
       "    .dataframe tbody tr th {\n",
       "        vertical-align: top;\n",
       "    }\n",
       "\n",
       "    .dataframe thead th {\n",
       "        text-align: right;\n",
       "    }\n",
       "</style>\n",
       "<table border=\"1\" class=\"dataframe\">\n",
       "  <thead>\n",
       "    <tr style=\"text-align: right;\">\n",
       "      <th></th>\n",
       "      <th>hospital</th>\n",
       "      <th>total_meals_received</th>\n",
       "      <th>total_orders_fulfilled</th>\n",
       "      <th>vip_meals_count</th>\n",
       "    </tr>\n",
       "  </thead>\n",
       "  <tbody>\n",
       "    <tr>\n",
       "      <th>0</th>\n",
       "      <td>Boston Medical Center</td>\n",
       "      <td>3600.0</td>\n",
       "      <td>7</td>\n",
       "      <td>7.0</td>\n",
       "    </tr>\n",
       "    <tr>\n",
       "      <th>1</th>\n",
       "      <td>Cambridge Health Alliance - Everett Hospital</td>\n",
       "      <td>600.0</td>\n",
       "      <td>4</td>\n",
       "      <td>0.0</td>\n",
       "    </tr>\n",
       "    <tr>\n",
       "      <th>2</th>\n",
       "      <td>Cambridge Health Alliance - Cambridge Hospital</td>\n",
       "      <td>460.0</td>\n",
       "      <td>4</td>\n",
       "      <td>0.0</td>\n",
       "    </tr>\n",
       "    <tr>\n",
       "      <th>3</th>\n",
       "      <td>Whittier Street Health Center</td>\n",
       "      <td>450.0</td>\n",
       "      <td>3</td>\n",
       "      <td>0.0</td>\n",
       "    </tr>\n",
       "    <tr>\n",
       "      <th>4</th>\n",
       "      <td>Brigham and Women's Hospital - ED</td>\n",
       "      <td>400.0</td>\n",
       "      <td>4</td>\n",
       "      <td>4.0</td>\n",
       "    </tr>\n",
       "    <tr>\n",
       "      <th>5</th>\n",
       "      <td>Carney Hospital - ED</td>\n",
       "      <td>400.0</td>\n",
       "      <td>4</td>\n",
       "      <td>0.0</td>\n",
       "    </tr>\n",
       "    <tr>\n",
       "      <th>6</th>\n",
       "      <td>Codman Square Health Center</td>\n",
       "      <td>330.0</td>\n",
       "      <td>3</td>\n",
       "      <td>0.0</td>\n",
       "    </tr>\n",
       "    <tr>\n",
       "      <th>7</th>\n",
       "      <td>VA Medical Center - West Roxbury</td>\n",
       "      <td>320.0</td>\n",
       "      <td>4</td>\n",
       "      <td>0.0</td>\n",
       "    </tr>\n",
       "    <tr>\n",
       "      <th>8</th>\n",
       "      <td>Massachusetts General Hospital - ED</td>\n",
       "      <td>260.0</td>\n",
       "      <td>4</td>\n",
       "      <td>0.0</td>\n",
       "    </tr>\n",
       "    <tr>\n",
       "      <th>9</th>\n",
       "      <td>Boston Healthcare for the Homeless</td>\n",
       "      <td>252.0</td>\n",
       "      <td>21</td>\n",
       "      <td>21.0</td>\n",
       "    </tr>\n",
       "    <tr>\n",
       "      <th>10</th>\n",
       "      <td>East Boston Neighborhood Health Center</td>\n",
       "      <td>250.0</td>\n",
       "      <td>3</td>\n",
       "      <td>0.0</td>\n",
       "    </tr>\n",
       "    <tr>\n",
       "      <th>11</th>\n",
       "      <td>South Boston Community Health Center</td>\n",
       "      <td>240.0</td>\n",
       "      <td>3</td>\n",
       "      <td>0.0</td>\n",
       "    </tr>\n",
       "    <tr>\n",
       "      <th>12</th>\n",
       "      <td>BIDMC - West Campus</td>\n",
       "      <td>240.0</td>\n",
       "      <td>4</td>\n",
       "      <td>0.0</td>\n",
       "    </tr>\n",
       "    <tr>\n",
       "      <th>13</th>\n",
       "      <td>Boston Children's Hospital - ED</td>\n",
       "      <td>240.0</td>\n",
       "      <td>4</td>\n",
       "      <td>0.0</td>\n",
       "    </tr>\n",
       "    <tr>\n",
       "      <th>14</th>\n",
       "      <td>Tufts Medical Center</td>\n",
       "      <td>216.0</td>\n",
       "      <td>4</td>\n",
       "      <td>0.0</td>\n",
       "    </tr>\n",
       "    <tr>\n",
       "      <th>15</th>\n",
       "      <td>Upham's Corner Health Center</td>\n",
       "      <td>210.0</td>\n",
       "      <td>3</td>\n",
       "      <td>0.0</td>\n",
       "    </tr>\n",
       "    <tr>\n",
       "      <th>16</th>\n",
       "      <td>Brigham and Women's - Faulkner ED</td>\n",
       "      <td>180.0</td>\n",
       "      <td>4</td>\n",
       "      <td>4.0</td>\n",
       "    </tr>\n",
       "    <tr>\n",
       "      <th>17</th>\n",
       "      <td>Massachusetts General Hospital - ICU</td>\n",
       "      <td>160.0</td>\n",
       "      <td>2</td>\n",
       "      <td>0.0</td>\n",
       "    </tr>\n",
       "    <tr>\n",
       "      <th>18</th>\n",
       "      <td>BWH - Faulkner 7N Covid Unit</td>\n",
       "      <td>136.0</td>\n",
       "      <td>4</td>\n",
       "      <td>0.0</td>\n",
       "    </tr>\n",
       "    <tr>\n",
       "      <th>19</th>\n",
       "      <td>BIDMC - East Campus</td>\n",
       "      <td>132.0</td>\n",
       "      <td>6</td>\n",
       "      <td>0.0</td>\n",
       "    </tr>\n",
       "    <tr>\n",
       "      <th>20</th>\n",
       "      <td>Southern Jamaica Plain Health Center (part of ...</td>\n",
       "      <td>120.0</td>\n",
       "      <td>4</td>\n",
       "      <td>0.0</td>\n",
       "    </tr>\n",
       "    <tr>\n",
       "      <th>21</th>\n",
       "      <td>Cambridge Health Alliance - Somerville Hospital</td>\n",
       "      <td>120.0</td>\n",
       "      <td>4</td>\n",
       "      <td>0.0</td>\n",
       "    </tr>\n",
       "    <tr>\n",
       "      <th>22</th>\n",
       "      <td>BIDMC - ICU West</td>\n",
       "      <td>120.0</td>\n",
       "      <td>2</td>\n",
       "      <td>0.0</td>\n",
       "    </tr>\n",
       "    <tr>\n",
       "      <th>23</th>\n",
       "      <td>Dana Farber Cancer Institute - Inpatient PAs</td>\n",
       "      <td>120.0</td>\n",
       "      <td>4</td>\n",
       "      <td>0.0</td>\n",
       "    </tr>\n",
       "    <tr>\n",
       "      <th>24</th>\n",
       "      <td>Mattapan Community Health Center</td>\n",
       "      <td>105.0</td>\n",
       "      <td>3</td>\n",
       "      <td>0.0</td>\n",
       "    </tr>\n",
       "    <tr>\n",
       "      <th>25</th>\n",
       "      <td>BIDMC - Chelsea</td>\n",
       "      <td>80.0</td>\n",
       "      <td>4</td>\n",
       "      <td>0.0</td>\n",
       "    </tr>\n",
       "    <tr>\n",
       "      <th>26</th>\n",
       "      <td>Dot House Health Dorchester</td>\n",
       "      <td>75.0</td>\n",
       "      <td>3</td>\n",
       "      <td>0.0</td>\n",
       "    </tr>\n",
       "    <tr>\n",
       "      <th>27</th>\n",
       "      <td>Charles River Community Health</td>\n",
       "      <td>72.0</td>\n",
       "      <td>3</td>\n",
       "      <td>0.0</td>\n",
       "    </tr>\n",
       "    <tr>\n",
       "      <th>28</th>\n",
       "      <td>BWH - Faulkner ICU</td>\n",
       "      <td>68.0</td>\n",
       "      <td>4</td>\n",
       "      <td>0.0</td>\n",
       "    </tr>\n",
       "    <tr>\n",
       "      <th>29</th>\n",
       "      <td>BIDMC - ICU East</td>\n",
       "      <td>40.0</td>\n",
       "      <td>2</td>\n",
       "      <td>0.0</td>\n",
       "    </tr>\n",
       "  </tbody>\n",
       "</table>\n",
       "</div>"
      ],
      "text/plain": [
       "                                             hospital  total_meals_received  \\\n",
       "0                               Boston Medical Center                3600.0   \n",
       "1        Cambridge Health Alliance - Everett Hospital                 600.0   \n",
       "2      Cambridge Health Alliance - Cambridge Hospital                 460.0   \n",
       "3                       Whittier Street Health Center                 450.0   \n",
       "4                   Brigham and Women's Hospital - ED                 400.0   \n",
       "5                                Carney Hospital - ED                 400.0   \n",
       "6                         Codman Square Health Center                 330.0   \n",
       "7                    VA Medical Center - West Roxbury                 320.0   \n",
       "8                 Massachusetts General Hospital - ED                 260.0   \n",
       "9                  Boston Healthcare for the Homeless                 252.0   \n",
       "10             East Boston Neighborhood Health Center                 250.0   \n",
       "11               South Boston Community Health Center                 240.0   \n",
       "12                                BIDMC - West Campus                 240.0   \n",
       "13                    Boston Children's Hospital - ED                 240.0   \n",
       "14                               Tufts Medical Center                 216.0   \n",
       "15                       Upham's Corner Health Center                 210.0   \n",
       "16                  Brigham and Women's - Faulkner ED                 180.0   \n",
       "17               Massachusetts General Hospital - ICU                 160.0   \n",
       "18                       BWH - Faulkner 7N Covid Unit                 136.0   \n",
       "19                                BIDMC - East Campus                 132.0   \n",
       "20  Southern Jamaica Plain Health Center (part of ...                 120.0   \n",
       "21    Cambridge Health Alliance - Somerville Hospital                 120.0   \n",
       "22                                   BIDMC - ICU West                 120.0   \n",
       "23       Dana Farber Cancer Institute - Inpatient PAs                 120.0   \n",
       "24                   Mattapan Community Health Center                 105.0   \n",
       "25                                    BIDMC - Chelsea                  80.0   \n",
       "26                        Dot House Health Dorchester                  75.0   \n",
       "27                     Charles River Community Health                  72.0   \n",
       "28                                 BWH - Faulkner ICU                  68.0   \n",
       "29                                   BIDMC - ICU East                  40.0   \n",
       "\n",
       "    total_orders_fulfilled  vip_meals_count  \n",
       "0                        7              7.0  \n",
       "1                        4              0.0  \n",
       "2                        4              0.0  \n",
       "3                        3              0.0  \n",
       "4                        4              4.0  \n",
       "5                        4              0.0  \n",
       "6                        3              0.0  \n",
       "7                        4              0.0  \n",
       "8                        4              0.0  \n",
       "9                       21             21.0  \n",
       "10                       3              0.0  \n",
       "11                       3              0.0  \n",
       "12                       4              0.0  \n",
       "13                       4              0.0  \n",
       "14                       4              0.0  \n",
       "15                       3              0.0  \n",
       "16                       4              4.0  \n",
       "17                       2              0.0  \n",
       "18                       4              0.0  \n",
       "19                       6              0.0  \n",
       "20                       4              0.0  \n",
       "21                       4              0.0  \n",
       "22                       2              0.0  \n",
       "23                       4              0.0  \n",
       "24                       3              0.0  \n",
       "25                       4              0.0  \n",
       "26                       3              0.0  \n",
       "27                       3              0.0  \n",
       "28                       4              0.0  \n",
       "29                       2              0.0  "
      ]
     },
     "execution_count": 200,
     "metadata": {},
     "output_type": "execute_result"
    }
   ],
   "source": [
    "# Total numbers of meals and orders received for each HP\n",
    "# NB: this variable is defined above, as it's used in a validation test\n",
    "hospital_meals_rollup"
   ]
  },
  {
   "cell_type": "markdown",
   "metadata": {},
   "source": [
    "## Hospital Equity Check"
   ]
  },
  {
   "cell_type": "code",
   "execution_count": 201,
   "metadata": {},
   "outputs": [
    {
     "name": "stdout",
     "output_type": "stream",
     "text": [
      "INCLUDING VIP MEALS\n",
      "RANGE OF ORDERS FOR HOSPITALS: 19\n",
      "This range should ideally only be 1, once we remove VIP orders!\n",
      "Note: this is inclusive of VIP orders. Please verify this discrepancy!\n",
      "------------------------------\n",
      "MAXIMUM Order for Hospital: 21 for Hospital(s):\n",
      "- Boston Healthcare for the Homeless \tNumber of VIP orders: 21.0\n",
      "\n",
      "MINIMUM Order for Hospital: 2 for Hospital(s):\n",
      "- Massachusetts General Hospital - ICU \tNumber of VIP orders: 0.0\n",
      "- BIDMC - ICU West \tNumber of VIP orders: 0.0\n",
      "- BIDMC - ICU East \tNumber of VIP orders: 0.0\n"
     ]
    }
   ],
   "source": [
    "# Hospital Equity check\n",
    "max_row = hospital_meals_rollup[\n",
    "    hospital_meals_rollup['total_orders_fulfilled'] == hospital_meals_rollup['total_orders_fulfilled'\n",
    "].max()]\n",
    "min_row = hospital_meals_rollup[\n",
    "    hospital_meals_rollup['total_orders_fulfilled'] == hospital_meals_rollup['total_orders_fulfilled'\n",
    "].min()]\n",
    "\n",
    "order_range = (max_row['total_orders_fulfilled'].values[0] - min_row['total_orders_fulfilled'].values[0])\n",
    "print('INCLUDING VIP MEALS')\n",
    "print('RANGE OF ORDERS FOR HOSPITALS:', order_range)\n",
    "if order_range > 1:\n",
    "    print('This range should ideally only be 1, once we remove VIP orders!')\n",
    "print('Note: this is inclusive of VIP orders. Please verify this discrepancy!')\n",
    "print('------------------------------')\n",
    "print(\n",
    "    'MAXIMUM Order for Hospital:', \n",
    "    max_row['total_orders_fulfilled'].values[0], \n",
    "    'for Hospital(s):', \n",
    ")\n",
    "for _, row in max_row.iterrows():\n",
    "    print('-', row['hospital'], '\\tNumber of VIP orders:', row['vip_meals_count'])\n",
    "print()\n",
    "print(\n",
    "    'MINIMUM Order for Hospital:', \n",
    "    min_row['total_orders_fulfilled'].values[0], \n",
    "    'for Hospital(s):', \n",
    ")\n",
    "for _, row in min_row.iterrows():\n",
    "    print('-', row['hospital'], '\\tNumber of VIP orders:', row['vip_meals_count'])\n"
   ]
  },
  {
   "cell_type": "code",
   "execution_count": 202,
   "metadata": {},
   "outputs": [
    {
     "name": "stdout",
     "output_type": "stream",
     "text": [
      "Removing VIP Meals from the equation (VIP meals collapse to a single meal for each hospital):\n"
     ]
    },
    {
     "data": {
      "text/plain": [
       "count    30.000000\n",
       "mean      3.200000\n",
       "std       1.186127\n",
       "min       1.000000\n",
       "25%       3.000000\n",
       "50%       3.500000\n",
       "75%       4.000000\n",
       "max       6.000000\n",
       "dtype: float64"
      ]
     },
     "execution_count": 202,
     "metadata": {},
     "output_type": "execute_result"
    }
   ],
   "source": [
    "print('Removing VIP Meals from the equation (VIP meals collapse to a single meal for each hospital):')\n",
    "(hospital_meals_rollup[\n",
    "    'total_orders_fulfilled'\n",
    "] - hospital_meals_rollup[\n",
    "    'vip_meals_count'\n",
    "].transform(lambda x: max(0, x-1))).describe()"
   ]
  },
  {
   "cell_type": "code",
   "execution_count": null,
   "metadata": {},
   "outputs": [],
   "source": []
  },
  {
   "cell_type": "code",
   "execution_count": null,
   "metadata": {},
   "outputs": [],
   "source": []
  }
 ],
 "metadata": {
  "kernelspec": {
   "display_name": "Python 3",
   "language": "python",
   "name": "python3"
  },
  "language_info": {
   "codemirror_mode": {
    "name": "ipython",
    "version": 3
   },
   "file_extension": ".py",
   "mimetype": "text/x-python",
   "name": "python",
   "nbconvert_exporter": "python",
   "pygments_lexer": "ipython3",
   "version": "3.8.0"
  }
 },
 "nbformat": 4,
 "nbformat_minor": 4
}
